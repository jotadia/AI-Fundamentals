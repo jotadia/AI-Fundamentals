{
 "cells": [
  {
   "cell_type": "markdown",
   "id": "c006b08e",
   "metadata": {},
   "source": [
    "## Homework – OOP with Animals\n",
    "\n",
    "**1. Base class design**  \n",
    "*Create a class named Animals with the following properties: name, age, gender, color, and species.*\n",
    "\n",
    "**The class must include:**\n",
    "- Getters for each property\n",
    "- A method to return all the information as a formatted string\n",
    "- A method to set the animal's weight in kilograms, by passing the value in pounds\n",
    "\n",
    "**2. Inheritance and unique attributes**  \n",
    "*Create four subclasses that inherit from Animals: Dog, Cat, Bird, and Cow.*\n",
    "\n",
    "**Each subclass should:**\n",
    "- Inherit all properties and methods from Animals\n",
    "- Add at least one unique attribute (e.g., breed for Dog, is_dairy for Cow, etc.)\n",
    "- Override the make_sound method with the correct animal sound\n",
    "- Add at least one unique method relevant to that animal (e.g., fetch for Dog, scratch for Cat)\n",
    "\n",
    "**3. Usage example**\n",
    "Write an example in which you create one object of each subclass, set their weight in pounds, and print their information using the class methods.\n",
    "\n",
    "**4. (Optional) Polymorphism**\n",
    "Write a function that takes a list of Animals objects (could be dogs, cats, etc.), and for each one prints their information and the sound they make.\n",
    "\n"
   ]
  },
  {
   "cell_type": "code",
   "execution_count": 1,
   "id": "d5de413a",
   "metadata": {},
   "outputs": [],
   "source": [
    "from classAnimals.classAnimals import Animals\n",
    "from classAnimals.dog import Dog\n"
   ]
  },
  {
   "cell_type": "code",
   "execution_count": 2,
   "id": "0c3554d3",
   "metadata": {},
   "outputs": [
    {
     "data": {
      "text/plain": [
       "27.669112"
      ]
     },
     "execution_count": 2,
     "metadata": {},
     "output_type": "execute_result"
    }
   ],
   "source": [
    "dog1 = Dog(\"Cual\", 2, \"Macho\", \"Marron\", \"Criollo\")\n",
    "dog1.set_weight_from_pounds(61)  # 61 lbs\n"
   ]
  },
  {
   "cell_type": "code",
   "execution_count": 3,
   "id": "93b1d285",
   "metadata": {},
   "outputs": [
    {
     "name": "stdout",
     "output_type": "stream",
     "text": [
      "Name: Cual\n",
      "Age: 2\n",
      "Adult: No\n",
      "Gender: Macho\n",
      "Color: Marron\n",
      "Species: Dog\n",
      "Weight: 27.669112 kg\n",
      "Breed: Criollo\n",
      "Sonido del perro: Woof!\n",
      "Cual fetches the stick!\n",
      "---\n",
      "\n"
     ]
    }
   ],
   "source": [
    "print(dog1.get_info())\n",
    "print(\"Sonido del perro:\", dog1.make_sound())\n",
    "print(dog1.fetch(\"stick\"))\n",
    "print(\"---\\n\")"
   ]
  }
 ],
 "metadata": {
  "kernelspec": {
   "display_name": "Python 3.12.10 64-bit",
   "language": "python",
   "name": "python3"
  },
  "language_info": {
   "codemirror_mode": {
    "name": "ipython",
    "version": 3
   },
   "file_extension": ".py",
   "mimetype": "text/x-python",
   "name": "python",
   "nbconvert_exporter": "python",
   "pygments_lexer": "ipython3",
   "version": "3.12.10"
  },
  "vscode": {
   "interpreter": {
    "hash": "30411069b5988a0f3a4d9d32f6e248cb459f0a165107a744b5c643951c9a23f5"
   }
  }
 },
 "nbformat": 4,
 "nbformat_minor": 5
}
