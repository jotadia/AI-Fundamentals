{
 "cells": [
  {
   "cell_type": "markdown",
   "metadata": {},
   "source": [
    "## Taken from the Prework course of the PGP AIML at The University of Texas"
   ]
  },
  {
   "cell_type": "markdown",
   "metadata": {},
   "source": [
    "# COLLECTION OF VARIABLES"
   ]
  },
  {
   "cell_type": "markdown",
   "metadata": {},
   "source": [
    "-----------------"
   ]
  },
  {
   "cell_type": "markdown",
   "metadata": {},
   "source": [
    "### 1.Create a list of repeated element (element 2,48 times)"
   ]
  },
  {
   "cell_type": "code",
   "execution_count": 1,
   "metadata": {},
   "outputs": [
    {
     "name": "stdout",
     "output_type": "stream",
     "text": [
      "[2, 2, 2, 2, 2, 2, 2, 2, 2, 2, 2, 2, 2, 2, 2, 2, 2, 2, 2, 2, 2, 2, 2, 2, 2, 2, 2, 2, 2, 2, 2, 2, 2, 2, 2, 2, 2, 2, 2, 2, 2, 2, 2, 2, 2, 2, 2, 2]\n"
     ]
    }
   ],
   "source": [
    "mylist = [2] * 48\n",
    "print(mylist)"
   ]
  },
  {
   "cell_type": "markdown",
   "metadata": {},
   "source": [
    "### 2.Print the second element of the list\n",
    "\n",
    "list = [\"apple\",\"orange\",\"grapes\",\"watermelon\"]"
   ]
  },
  {
   "cell_type": "code",
   "execution_count": 3,
   "metadata": {},
   "outputs": [
    {
     "name": "stdout",
     "output_type": "stream",
     "text": [
      "orange\n"
     ]
    }
   ],
   "source": [
    "list = [\"apple\",\"orange\",\"grapes\",\"watermelon\"]\n",
    "print(list[1])"
   ]
  },
  {
   "cell_type": "markdown",
   "metadata": {},
   "source": [
    "### 3.  Replace the second element of the list with \"strawberries\"\n",
    "list = [\"apple\",\"orange\",\"grapes\",\"watermelon\"]"
   ]
  },
  {
   "cell_type": "code",
   "execution_count": 5,
   "metadata": {},
   "outputs": [
    {
     "name": "stdout",
     "output_type": "stream",
     "text": [
      "['apple', 'orange', 'grapes', 'watermelon']\n",
      "['apple', 'strawberries', 'grapes', 'watermelon']\n"
     ]
    }
   ],
   "source": [
    "lis = [\"apple\",\"orange\",\"grapes\",\"watermelon\"]\n",
    "print(lis)\n",
    "lis[1] = \"strawberries\"\n",
    "print(lis)"
   ]
  },
  {
   "cell_type": "markdown",
   "metadata": {},
   "source": [
    "### 4.Iterate through the list and print the values"
   ]
  },
  {
   "cell_type": "code",
   "execution_count": 7,
   "metadata": {},
   "outputs": [
    {
     "name": "stdout",
     "output_type": "stream",
     "text": [
      "uno\n",
      "dos\n",
      "cuatro\n",
      "cinco\n",
      "varios numeros\n"
     ]
    }
   ],
   "source": [
    "myList2 = ['uno','dos','cuatro','cinco','varios numeros']\n",
    "for i in myList2:\n",
    "    print(i)"
   ]
  },
  {
   "cell_type": "markdown",
   "metadata": {},
   "source": [
    "### 5.Write a python code to print squares of all numbers present in a list = [1, 12, 24, 36, 11, 20,50]\n"
   ]
  },
  {
   "cell_type": "code",
   "execution_count": 8,
   "metadata": {},
   "outputs": [
    {
     "name": "stdout",
     "output_type": "stream",
     "text": [
      "1\n",
      "144\n",
      "576\n",
      "1296\n",
      "121\n",
      "400\n",
      "2500\n"
     ]
    }
   ],
   "source": [
    "numeros = [1, 12, 24, 36, 11, 20,50]\n",
    "sq = 1\n",
    "for i in numeros:\n",
    "    sq = i * i\n",
    "    print(sq)"
   ]
  },
  {
   "cell_type": "markdown",
   "metadata": {},
   "source": [
    "### 6.Pop yellow color from the list below:\n",
    "List=['white','red', 'blue', 'green','blue','yellow', 'black']"
   ]
  },
  {
   "cell_type": "code",
   "execution_count": 9,
   "metadata": {},
   "outputs": [
    {
     "name": "stdout",
     "output_type": "stream",
     "text": [
      "['white', 'red', 'blue', 'green', 'blue', 'yellow', 'black']\n",
      "['white', 'red', 'blue', 'green', 'blue', 'black']\n"
     ]
    }
   ],
   "source": [
    "List = ['white','red', 'blue', 'green','blue','yellow', 'black']\n",
    "print(List)\n",
    "List.pop(5)\n",
    "print(List)"
   ]
  },
  {
   "cell_type": "markdown",
   "metadata": {},
   "source": [
    "### 7. Check length of list\n",
    "\n",
    "list=[\"a\",\"b\",\"c\",\"d\",\"e\"]"
   ]
  },
  {
   "cell_type": "code",
   "execution_count": 10,
   "metadata": {},
   "outputs": [
    {
     "data": {
      "text/plain": [
       "5"
      ]
     },
     "execution_count": 10,
     "metadata": {},
     "output_type": "execute_result"
    }
   ],
   "source": [
    "list=[\"a\",\"b\",\"c\",\"d\",\"e\"]\n",
    "len(list)"
   ]
  },
  {
   "cell_type": "markdown",
   "metadata": {},
   "source": [
    "###  8.Create a dictionary with the following information:\n",
    "\n",
    "brand = Audi\n",
    "\n",
    "Model = Q2\n",
    "\n",
    "Year = 1980"
   ]
  },
  {
   "cell_type": "code",
   "execution_count": 11,
   "metadata": {},
   "outputs": [
    {
     "name": "stdout",
     "output_type": "stream",
     "text": [
      "{'brand': 'Audi', 'model': 'Q2', 'year': 1980}\n"
     ]
    }
   ],
   "source": [
    "carros = { \"brand\" : \"Audi\",\"model\" : \"Q2\", \"year\" : 1980}\n",
    "print(carros)"
   ]
  },
  {
   "cell_type": "markdown",
   "metadata": {},
   "source": [
    "### 9.In the above dictionary change the year to 2019"
   ]
  },
  {
   "cell_type": "code",
   "execution_count": 13,
   "metadata": {},
   "outputs": [
    {
     "name": "stdout",
     "output_type": "stream",
     "text": [
      "{'brand': 'Audi', 'model': 'Q2', 'year': 1980}\n",
      "{'brand': 'Audi', 'model': 'Q2', 'year': 2019}\n"
     ]
    }
   ],
   "source": [
    "carros = { \"brand\" : \"Audi\",\"model\" : \"Q2\", \"year\" : 1980}\n",
    "print(carros)\n",
    "carros[\"year\"] = 2019\n",
    "print(carros)"
   ]
  },
  {
   "cell_type": "markdown",
   "metadata": {},
   "source": [
    "### 10. Create a set of following elements\n",
    "\n",
    "1.0, \"Hello\", 55 , (6,7,8)"
   ]
  },
  {
   "cell_type": "code",
   "execution_count": 16,
   "metadata": {},
   "outputs": [
    {
     "name": "stdout",
     "output_type": "stream",
     "text": [
      "{1.0, (6, 7, 8), 'Hello', 55}\n"
     ]
    }
   ],
   "source": [
    "myset={1.0, \"Hello\", 55, (6,7,8)}\n",
    "print(myset)"
   ]
  }
 ],
 "metadata": {
  "kernelspec": {
   "display_name": "Python 3.12.10 64-bit",
   "language": "python",
   "name": "python3"
  },
  "language_info": {
   "codemirror_mode": {
    "name": "ipython",
    "version": 3
   },
   "file_extension": ".py",
   "mimetype": "text/x-python",
   "name": "python",
   "nbconvert_exporter": "python",
   "pygments_lexer": "ipython3",
   "version": "3.12.10"
  },
  "vscode": {
   "interpreter": {
    "hash": "30411069b5988a0f3a4d9d32f6e248cb459f0a165107a744b5c643951c9a23f5"
   }
  }
 },
 "nbformat": 4,
 "nbformat_minor": 4
}
